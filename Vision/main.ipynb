{
 "cells": [
  {
   "cell_type": "code",
   "execution_count": null,
   "id": "69c29f02-55fc-474d-9233-a6658481c137",
   "metadata": {},
   "outputs": [
    {
     "name": "stderr",
     "output_type": "stream",
     "text": [
      "\u001b[34m\u001b[1mwandb\u001b[0m: Currently logged in as: \u001b[33midori\u001b[0m (\u001b[33midori2\u001b[0m). Use \u001b[1m`wandb login --relogin`\u001b[0m to force relogin\n"
     ]
    },
    {
     "data": {
      "text/plain": [
       "True"
      ]
     },
     "execution_count": 1,
     "metadata": {},
     "output_type": "execute_result"
    }
   ],
   "source": [
    "import torch\n",
    "import torchvision\n",
    "import torch.nn as nn\n",
    "from torchvision import datasets\n",
    "from torchvision import transforms as transforms\n",
    "import numpy as np\n",
    "import wandb\n",
    "# import VisionSparsityProbeExperiments.environments.cifar10_resnet_env as res_net\n",
    "# import VisionSparsityProbeExperiments.train.train as tr\n",
    "# import VisionSparsityProbeExperiments\n",
    "import matplotlib.pyplot as plt\n",
    "from torchvision import models as models\n",
    "\n",
    "\n",
    "wandb.login()"
   ]
  },
  {
   "cell_type": "code",
   "execution_count": 5,
   "id": "e0bdd237-4252-430c-a11c-107950e80ecb",
   "metadata": {},
   "outputs": [
    {
     "data": {
      "text/plain": [
       "<All keys matched successfully>"
      ]
     },
     "execution_count": 5,
     "metadata": {},
     "output_type": "execute_result"
    }
   ],
   "source": [
    "transform = transforms.Compose([transforms.Pad((32-28) // 2),\n",
    "\t\t\t\t\t\t\t\ttransforms.ToTensor(),\n",
    "\t\t\t\t\t\t\t\ttransforms.Normalize(tuple([ [0.1307]]), tuple([[0.3081]]))])\n",
    "#choose your dataset\n",
    "#analysis_dataset = datasets.FashionMNIST(\"Vision/data/FashionMNIST\",train=False,download=True,transform = transform)\n",
    "analysis_dataset = datasets.MNIST(\"Vision/data/MNIST\",train=False,download=True,transform = transform)\n",
    "\n",
    "g = torch.Generator()\n",
    "#why batch size is 1?\n",
    "train_loader = torch.utils.data.DataLoader(analysis_dataset,\n",
    "\t\t\t\t\t\t\t\t\t\t\t  batch_size=1, shuffle=False,\n",
    "\t\t\t\t\t\t\t\t\t\t\t  generator=g)\n",
    "model = models.resnet18(pretrained=False, num_classes=10)\n",
    "model.conv1 = torch.nn.Conv2d(1,model.conv1.weight.shape[0],3,1,1,bias=False)\n",
    "model.maxpool = nn.MaxPool2d(kernel_size=1, stride=1, padding=0)\n",
    "\n",
    "model.load_state_dict(torch.load(\"Trained_models/trained_model_full_model_2.pt\"))\n"
   ]
  },
  {
   "cell_type": "code",
   "execution_count": 6,
   "id": "6fda63f3-3f0c-4370-8df2-389d89ee4947",
   "metadata": {},
   "outputs": [
    {
     "name": "stdout",
     "output_type": "stream",
     "text": [
      "accuracy:0.988\n"
     ]
    }
   ],
   "source": [
    "model.eval()\n",
    "device = torch.device(\"cpu\")\n",
    "net_correct = 0\n",
    "with torch.no_grad():\n",
    "    for data, target in train_loader:\n",
    "        data = data.to(device)\n",
    "        target = target.to(device)\n",
    "        \n",
    "        output = model(data)\n",
    "        output = output.cpu()\n",
    "        target = target.cpu()\n",
    "        net_pred = output.argmax(dim=1, keepdim=True)\n",
    "        net_correct += sum(net_pred.reshape(-1) == target).item()\n",
    "accuracy = net_correct / len(train_loader.dataset)\n",
    "print(f\"accuracy:{accuracy}\")\n"
   ]
  },
  {
   "cell_type": "code",
   "execution_count": null,
   "id": "a176b694-3c39-46a5-a578-3b0ff42267b5",
   "metadata": {},
   "outputs": [],
   "source": []
  }
 ],
 "metadata": {
  "kernelspec": {
   "display_name": "Python 3",
   "language": "python",
   "name": "python3"
  },
  "language_info": {
   "codemirror_mode": {
    "name": "ipython",
    "version": 3
   },
   "file_extension": ".py",
   "mimetype": "text/x-python",
   "name": "python",
   "nbconvert_exporter": "python",
   "pygments_lexer": "ipython3",
   "version": "3.8.12"
  }
 },
 "nbformat": 4,
 "nbformat_minor": 5
}
